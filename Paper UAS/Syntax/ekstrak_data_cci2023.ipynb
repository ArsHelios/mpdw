{
 "cells": [
  {
   "cell_type": "code",
   "execution_count": 13,
   "id": "97b0e649",
   "metadata": {},
   "outputs": [
    {
     "name": "stdout",
     "output_type": "stream",
     "text": [
      "Requirement already satisfied: dask in e:\\python workspace aur\\.venv\\lib\\site-packages (2025.10.0)\n",
      "Requirement already satisfied: click>=8.1 in e:\\python workspace aur\\.venv\\lib\\site-packages (from dask) (8.3.0)\n",
      "Requirement already satisfied: cloudpickle>=3.0.0 in e:\\python workspace aur\\.venv\\lib\\site-packages (from dask) (3.1.1)\n",
      "Requirement already satisfied: fsspec>=2021.09.0 in e:\\python workspace aur\\.venv\\lib\\site-packages (from dask) (2025.9.0)\n",
      "Requirement already satisfied: packaging>=20.0 in e:\\python workspace aur\\.venv\\lib\\site-packages (from dask) (25.0)\n",
      "Requirement already satisfied: partd>=1.4.0 in e:\\python workspace aur\\.venv\\lib\\site-packages (from dask) (1.4.2)\n",
      "Requirement already satisfied: pyyaml>=5.3.1 in e:\\python workspace aur\\.venv\\lib\\site-packages (from dask) (6.0.3)\n",
      "Requirement already satisfied: toolz>=0.10.0 in e:\\python workspace aur\\.venv\\lib\\site-packages (from dask) (1.1.0)\n",
      "Requirement already satisfied: colorama in e:\\python workspace aur\\.venv\\lib\\site-packages (from click>=8.1->dask) (0.4.6)\n",
      "Requirement already satisfied: locket in e:\\python workspace aur\\.venv\\lib\\site-packages (from partd>=1.4.0->dask) (1.0.0)\n",
      "Note: you may need to restart the kernel to use updated packages.\n"
     ]
    },
    {
     "name": "stderr",
     "output_type": "stream",
     "text": [
      "\n",
      "[notice] A new release of pip is available: 25.1.1 -> 25.3\n",
      "[notice] To update, run: python.exe -m pip install --upgrade pip\n"
     ]
    }
   ],
   "source": [
    "pip install dask"
   ]
  },
  {
   "cell_type": "code",
   "execution_count": 14,
   "id": "8c1efc62",
   "metadata": {},
   "outputs": [
    {
     "name": "stdout",
     "output_type": "stream",
     "text": [
      "Requirement already satisfied: matplotlib in e:\\python workspace aur\\.venv\\lib\\site-packages (3.10.7)\n",
      "Requirement already satisfied: contourpy>=1.0.1 in e:\\python workspace aur\\.venv\\lib\\site-packages (from matplotlib) (1.3.3)\n",
      "Requirement already satisfied: cycler>=0.10 in e:\\python workspace aur\\.venv\\lib\\site-packages (from matplotlib) (0.12.1)\n",
      "Requirement already satisfied: fonttools>=4.22.0 in e:\\python workspace aur\\.venv\\lib\\site-packages (from matplotlib) (4.60.1)\n",
      "Requirement already satisfied: kiwisolver>=1.3.1 in e:\\python workspace aur\\.venv\\lib\\site-packages (from matplotlib) (1.4.9)\n",
      "Requirement already satisfied: numpy>=1.23 in e:\\python workspace aur\\.venv\\lib\\site-packages (from matplotlib) (2.3.4)\n",
      "Requirement already satisfied: packaging>=20.0 in e:\\python workspace aur\\.venv\\lib\\site-packages (from matplotlib) (25.0)\n",
      "Requirement already satisfied: pillow>=8 in e:\\python workspace aur\\.venv\\lib\\site-packages (from matplotlib) (12.0.0)\n",
      "Requirement already satisfied: pyparsing>=3 in e:\\python workspace aur\\.venv\\lib\\site-packages (from matplotlib) (3.2.5)\n",
      "Requirement already satisfied: python-dateutil>=2.7 in e:\\python workspace aur\\.venv\\lib\\site-packages (from matplotlib) (2.9.0.post0)\n",
      "Requirement already satisfied: six>=1.5 in e:\\python workspace aur\\.venv\\lib\\site-packages (from python-dateutil>=2.7->matplotlib) (1.17.0)\n",
      "Note: you may need to restart the kernel to use updated packages.\n"
     ]
    },
    {
     "name": "stderr",
     "output_type": "stream",
     "text": [
      "\n",
      "[notice] A new release of pip is available: 25.1.1 -> 25.3\n",
      "[notice] To update, run: python.exe -m pip install --upgrade pip\n"
     ]
    }
   ],
   "source": [
    "pip install matplotlib"
   ]
  },
  {
   "cell_type": "code",
   "execution_count": 15,
   "id": "109455cf",
   "metadata": {},
   "outputs": [
    {
     "name": "stdout",
     "output_type": "stream",
     "text": [
      "Requirement already satisfied: netcdf4 in e:\\python workspace aur\\.venv\\lib\\site-packages (1.7.3)\n",
      "Requirement already satisfied: cftime in e:\\python workspace aur\\.venv\\lib\\site-packages (from netcdf4) (1.6.5)\n",
      "Requirement already satisfied: certifi in e:\\python workspace aur\\.venv\\lib\\site-packages (from netcdf4) (2025.10.5)\n",
      "Requirement already satisfied: numpy in e:\\python workspace aur\\.venv\\lib\\site-packages (from netcdf4) (2.3.4)\n",
      "Note: you may need to restart the kernel to use updated packages.\n"
     ]
    },
    {
     "name": "stderr",
     "output_type": "stream",
     "text": [
      "\n",
      "[notice] A new release of pip is available: 25.1.1 -> 25.3\n",
      "[notice] To update, run: python.exe -m pip install --upgrade pip\n"
     ]
    }
   ],
   "source": [
    "pip install netcdf4"
   ]
  },
  {
   "cell_type": "code",
   "execution_count": 16,
   "id": "34e914bb",
   "metadata": {},
   "outputs": [
    {
     "name": "stdout",
     "output_type": "stream",
     "text": [
      "Requirement already satisfied: xarray in e:\\python workspace aur\\.venv\\lib\\site-packages (2025.10.1)\n",
      "Requirement already satisfied: numpy>=1.26 in e:\\python workspace aur\\.venv\\lib\\site-packages (from xarray) (2.3.4)\n",
      "Requirement already satisfied: packaging>=24.1 in e:\\python workspace aur\\.venv\\lib\\site-packages (from xarray) (25.0)\n",
      "Requirement already satisfied: pandas>=2.2 in e:\\python workspace aur\\.venv\\lib\\site-packages (from xarray) (2.3.3)\n",
      "Requirement already satisfied: python-dateutil>=2.8.2 in e:\\python workspace aur\\.venv\\lib\\site-packages (from pandas>=2.2->xarray) (2.9.0.post0)\n",
      "Requirement already satisfied: pytz>=2020.1 in e:\\python workspace aur\\.venv\\lib\\site-packages (from pandas>=2.2->xarray) (2025.2)\n",
      "Requirement already satisfied: tzdata>=2022.7 in e:\\python workspace aur\\.venv\\lib\\site-packages (from pandas>=2.2->xarray) (2025.2)\n",
      "Requirement already satisfied: six>=1.5 in e:\\python workspace aur\\.venv\\lib\\site-packages (from python-dateutil>=2.8.2->pandas>=2.2->xarray) (1.17.0)\n",
      "Note: you may need to restart the kernel to use updated packages.\n"
     ]
    },
    {
     "name": "stderr",
     "output_type": "stream",
     "text": [
      "\n",
      "[notice] A new release of pip is available: 25.1.1 -> 25.3\n",
      "[notice] To update, run: python.exe -m pip install --upgrade pip\n"
     ]
    }
   ],
   "source": [
    "pip install xarray"
   ]
  },
  {
   "cell_type": "code",
   "execution_count": 17,
   "id": "b4b8e5ef",
   "metadata": {},
   "outputs": [],
   "source": [
    "import xarray as xr\n",
    "import pandas as pd"
   ]
  },
  {
   "cell_type": "code",
   "execution_count": 18,
   "id": "95264f6a",
   "metadata": {},
   "outputs": [],
   "source": [
    "# ini rangenya diganti sesuai sama tahun tugas sendiri sendiri \n",
    "dates_2023 = pd.date_range(start='2023-01-01', end='2023-12-31', freq='D')"
   ]
  },
  {
   "cell_type": "code",
   "execution_count": 19,
   "id": "75380294",
   "metadata": {},
   "outputs": [],
   "source": [
    "# ganti bagian tahun /2023/ jadi /tahun bagian sendiri/\n",
    "base_url = \"https://data.cci.ceda.ac.uk/thredds/dodsC/esacci/soil_moisture/data/daily_files/COMBINED/v09.1/2023/\"\n",
    "# gausah diubah udah nyesuaiin sendiri\n",
    "filename_template = \"ESACCI-SOILMOISTURE-L3S-SSMV-COMBINED-{date_str}000000-fv09.1.nc\""
   ]
  },
  {
   "cell_type": "code",
   "execution_count": 20,
   "id": "92982189",
   "metadata": {},
   "outputs": [],
   "source": [
    "list_of_urls = []"
   ]
  },
  {
   "cell_type": "code",
   "execution_count": 21,
   "id": "c3504d0e",
   "metadata": {},
   "outputs": [],
   "source": [
    "for date in dates_2023:\n",
    "    # Format tanggalnya jadi string 'YYYYMMDD' (misal: '20230101')\n",
    "    date_string = date.strftime('%Y%m%d')\n",
    "    filename = filename_template.format(date_str=date_string)\n",
    "    list_of_urls.append(base_url + filename)"
   ]
  },
  {
   "cell_type": "code",
   "execution_count": 22,
   "id": "9fc3d259",
   "metadata": {},
   "outputs": [
    {
     "name": "stdout",
     "output_type": "stream",
     "text": [
      "List URL yang dibuat:\n",
      "['https://data.cci.ceda.ac.uk/thredds/dodsC/esacci/soil_moisture/data/daily_files/COMBINED/v09.1/2023/ESACCI-SOILMOISTURE-L3S-SSMV-COMBINED-20230101000000-fv09.1.nc', 'https://data.cci.ceda.ac.uk/thredds/dodsC/esacci/soil_moisture/data/daily_files/COMBINED/v09.1/2023/ESACCI-SOILMOISTURE-L3S-SSMV-COMBINED-20230102000000-fv09.1.nc', 'https://data.cci.ceda.ac.uk/thredds/dodsC/esacci/soil_moisture/data/daily_files/COMBINED/v09.1/2023/ESACCI-SOILMOISTURE-L3S-SSMV-COMBINED-20230103000000-fv09.1.nc']\n"
     ]
    }
   ],
   "source": [
    "# buat ngecek url apa aja yang keambil\n",
    "print(\"List URL yang dibuat:\")\n",
    "print(list_of_urls[0:3])"
   ]
  },
  {
   "cell_type": "code",
   "execution_count": 23,
   "id": "54834511",
   "metadata": {},
   "outputs": [
    {
     "name": "stdout",
     "output_type": "stream",
     "text": [
      "Mulai membuka dataset... \n",
      "Dataset berhasil dimuat:\n",
      "<xarray.Dataset> Size: 11GB\n",
      "Dimensions:         (time: 365, lat: 720, lon: 1440)\n",
      "Coordinates:\n",
      "  * time            (time) datetime64[ns] 3kB 2023-01-01 ... 2023-12-31\n",
      "  * lat             (lat) float32 3kB 89.88 89.62 89.38 ... -89.38 -89.62 -89.88\n",
      "  * lon             (lon) float32 6kB -179.9 -179.6 -179.4 ... 179.4 179.6 179.9\n",
      "Data variables:\n",
      "    sm              (time, lat, lon) float32 2GB dask.array<chunksize=(1, 720, 1440), meta=np.ndarray>\n",
      "    sm_uncertainty  (time, lat, lon) float32 2GB dask.array<chunksize=(1, 720, 1440), meta=np.ndarray>\n",
      "    flag            (time, lat, lon) float32 2GB dask.array<chunksize=(1, 720, 1440), meta=np.ndarray>\n",
      "    freqbandID      (time, lat, lon) int16 757MB dask.array<chunksize=(1, 720, 1440), meta=np.ndarray>\n",
      "    dnflag          (time, lat, lon) int8 378MB dask.array<chunksize=(1, 720, 1440), meta=np.ndarray>\n",
      "    mode            (time, lat, lon) int8 378MB dask.array<chunksize=(1, 720, 1440), meta=np.ndarray>\n",
      "    sensor          (time, lat, lon) int32 2GB dask.array<chunksize=(1, 720, 1440), meta=np.ndarray>\n",
      "    t0              (time, lat, lon) datetime64[ns] 3GB dask.array<chunksize=(1, 720, 1440), meta=np.ndarray>\n",
      "Attributes: (12/44)\n",
      "    title:                        ESA CCI Surface Soil Moisture COMBINED acti...\n",
      "    institution:                  TU Wien (AUT); VanderSat B.V. (NL); Planet ...\n",
      "    contact:                      cci_sm_contact@eodc.eu\n",
      "    source:                       WARP 5.5R1.1/AMI-WS/ERS12 Level 2 Soil Mois...\n",
      "    platform:                     Nimbus 7, DMSP, TRMM, AQUA, Coriolis, GCOM-...\n",
      "    processing_level:             Quality-controlled, super-collocated (L3S) ...\n",
      "    ...                           ...\n",
      "    geospatial_lon_units:         degrees_east\n",
      "    geospatial_lat_resolution:    0.25 degree\n",
      "    geospatial_lon_resolution:    0.25 degree\n",
      "    spatial_resolution:           25km\n",
      "    time_coverage_start:          20230101T000000Z\n",
      "    time_coverage_end:            20230101T235959Z\n"
     ]
    }
   ],
   "source": [
    "print(\"Mulai membuka dataset... \")\n",
    "ds_series = xr.open_mfdataset(\n",
    "    list_of_urls,\n",
    "    combine='by_coords',\n",
    "    #compat='override', #jangan diapa apain, dihapus gpp sih\n",
    "    join='override',\n",
    "    parallel=False # jangan diganti True nanti parallel computing ga semua bisa\n",
    ")\n",
    "\n",
    "print(\"Dataset berhasil dimuat:\")\n",
    "print(ds_series)"
   ]
  },
  {
   "cell_type": "code",
   "execution_count": 24,
   "id": "56cf6888",
   "metadata": {},
   "outputs": [],
   "source": [
    "# ini buat batasan lokasi Indonesia\n",
    "lat_batas_indo = slice(6, -11)\n",
    "lon_batas_indo = slice(95, 141)\n",
    "# ini bikin variable sm_indonesia yang isinya 1 tahun numerical data\n",
    "sm_indonesia2023 = ds_series['sm'].sel(lat=lat_batas_indo, lon=lon_batas_indo)"
   ]
  },
  {
   "cell_type": "code",
   "execution_count": 25,
   "id": "ac17702c",
   "metadata": {},
   "outputs": [
    {
     "data": {
      "application/vnd.microsoft.datawrangler.viewer.v0+json": {
       "columns": [
        {
         "name": "index",
         "rawType": "int64",
         "type": "integer"
        },
        {
         "name": "time",
         "rawType": "datetime64[ns]",
         "type": "datetime"
        },
        {
         "name": "lat",
         "rawType": "float32",
         "type": "float"
        },
        {
         "name": "lon",
         "rawType": "float32",
         "type": "float"
        },
        {
         "name": "sm",
         "rawType": "float32",
         "type": "float"
        }
       ],
       "ref": "70567b1d-73d4-4edf-9d20-37ac683e9b72",
       "rows": [
        [
         "0",
         "2023-01-01 00:00:00",
         "5.875",
         "95.125",
         null
        ],
        [
         "1",
         "2023-01-01 00:00:00",
         "5.875",
         "95.375",
         null
        ],
        [
         "2",
         "2023-01-01 00:00:00",
         "5.875",
         "95.625",
         null
        ],
        [
         "3",
         "2023-01-01 00:00:00",
         "5.875",
         "95.875",
         null
        ],
        [
         "4",
         "2023-01-01 00:00:00",
         "5.875",
         "96.125",
         null
        ],
        [
         "5",
         "2023-01-01 00:00:00",
         "5.875",
         "96.375",
         null
        ],
        [
         "6",
         "2023-01-01 00:00:00",
         "5.875",
         "96.625",
         null
        ],
        [
         "7",
         "2023-01-01 00:00:00",
         "5.875",
         "96.875",
         null
        ],
        [
         "8",
         "2023-01-01 00:00:00",
         "5.875",
         "97.125",
         null
        ],
        [
         "9",
         "2023-01-01 00:00:00",
         "5.875",
         "97.375",
         null
        ],
        [
         "10",
         "2023-01-01 00:00:00",
         "5.875",
         "97.625",
         null
        ],
        [
         "11",
         "2023-01-01 00:00:00",
         "5.875",
         "97.875",
         null
        ],
        [
         "12",
         "2023-01-01 00:00:00",
         "5.875",
         "98.125",
         null
        ],
        [
         "13",
         "2023-01-01 00:00:00",
         "5.875",
         "98.375",
         null
        ],
        [
         "14",
         "2023-01-01 00:00:00",
         "5.875",
         "98.625",
         null
        ],
        [
         "15",
         "2023-01-01 00:00:00",
         "5.875",
         "98.875",
         null
        ],
        [
         "16",
         "2023-01-01 00:00:00",
         "5.875",
         "99.125",
         null
        ],
        [
         "17",
         "2023-01-01 00:00:00",
         "5.875",
         "99.375",
         null
        ],
        [
         "18",
         "2023-01-01 00:00:00",
         "5.875",
         "99.625",
         null
        ],
        [
         "19",
         "2023-01-01 00:00:00",
         "5.875",
         "99.875",
         null
        ],
        [
         "20",
         "2023-01-01 00:00:00",
         "5.875",
         "100.125",
         null
        ],
        [
         "21",
         "2023-01-01 00:00:00",
         "5.875",
         "100.375",
         null
        ],
        [
         "22",
         "2023-01-01 00:00:00",
         "5.875",
         "100.625",
         "0.28974834"
        ],
        [
         "23",
         "2023-01-01 00:00:00",
         "5.875",
         "100.875",
         "0.2936458"
        ],
        [
         "24",
         "2023-01-01 00:00:00",
         "5.875",
         "101.125",
         null
        ],
        [
         "25",
         "2023-01-01 00:00:00",
         "5.875",
         "101.375",
         null
        ],
        [
         "26",
         "2023-01-01 00:00:00",
         "5.875",
         "101.625",
         null
        ],
        [
         "27",
         "2023-01-01 00:00:00",
         "5.875",
         "101.875",
         null
        ],
        [
         "28",
         "2023-01-01 00:00:00",
         "5.875",
         "102.125",
         "0.27856576"
        ],
        [
         "29",
         "2023-01-01 00:00:00",
         "5.875",
         "102.375",
         "0.27392098"
        ],
        [
         "30",
         "2023-01-01 00:00:00",
         "5.875",
         "102.625",
         null
        ],
        [
         "31",
         "2023-01-01 00:00:00",
         "5.875",
         "102.875",
         null
        ],
        [
         "32",
         "2023-01-01 00:00:00",
         "5.875",
         "103.125",
         null
        ],
        [
         "33",
         "2023-01-01 00:00:00",
         "5.875",
         "103.375",
         null
        ],
        [
         "34",
         "2023-01-01 00:00:00",
         "5.875",
         "103.625",
         null
        ],
        [
         "35",
         "2023-01-01 00:00:00",
         "5.875",
         "103.875",
         null
        ],
        [
         "36",
         "2023-01-01 00:00:00",
         "5.875",
         "104.125",
         null
        ],
        [
         "37",
         "2023-01-01 00:00:00",
         "5.875",
         "104.375",
         null
        ],
        [
         "38",
         "2023-01-01 00:00:00",
         "5.875",
         "104.625",
         null
        ],
        [
         "39",
         "2023-01-01 00:00:00",
         "5.875",
         "104.875",
         null
        ],
        [
         "40",
         "2023-01-01 00:00:00",
         "5.875",
         "105.125",
         null
        ],
        [
         "41",
         "2023-01-01 00:00:00",
         "5.875",
         "105.375",
         null
        ],
        [
         "42",
         "2023-01-01 00:00:00",
         "5.875",
         "105.625",
         null
        ],
        [
         "43",
         "2023-01-01 00:00:00",
         "5.875",
         "105.875",
         null
        ],
        [
         "44",
         "2023-01-01 00:00:00",
         "5.875",
         "106.125",
         null
        ],
        [
         "45",
         "2023-01-01 00:00:00",
         "5.875",
         "106.375",
         null
        ],
        [
         "46",
         "2023-01-01 00:00:00",
         "5.875",
         "106.625",
         null
        ],
        [
         "47",
         "2023-01-01 00:00:00",
         "5.875",
         "106.875",
         null
        ],
        [
         "48",
         "2023-01-01 00:00:00",
         "5.875",
         "107.125",
         null
        ],
        [
         "49",
         "2023-01-01 00:00:00",
         "5.875",
         "107.375",
         null
        ]
       ],
       "shape": {
        "columns": 4,
        "rows": 4566880
       }
      },
      "text/html": [
       "<div>\n",
       "<style scoped>\n",
       "    .dataframe tbody tr th:only-of-type {\n",
       "        vertical-align: middle;\n",
       "    }\n",
       "\n",
       "    .dataframe tbody tr th {\n",
       "        vertical-align: top;\n",
       "    }\n",
       "\n",
       "    .dataframe thead th {\n",
       "        text-align: right;\n",
       "    }\n",
       "</style>\n",
       "<table border=\"1\" class=\"dataframe\">\n",
       "  <thead>\n",
       "    <tr style=\"text-align: right;\">\n",
       "      <th></th>\n",
       "      <th>time</th>\n",
       "      <th>lat</th>\n",
       "      <th>lon</th>\n",
       "      <th>sm</th>\n",
       "    </tr>\n",
       "  </thead>\n",
       "  <tbody>\n",
       "    <tr>\n",
       "      <th>0</th>\n",
       "      <td>2023-01-01</td>\n",
       "      <td>5.875</td>\n",
       "      <td>95.125</td>\n",
       "      <td>NaN</td>\n",
       "    </tr>\n",
       "    <tr>\n",
       "      <th>1</th>\n",
       "      <td>2023-01-01</td>\n",
       "      <td>5.875</td>\n",
       "      <td>95.375</td>\n",
       "      <td>NaN</td>\n",
       "    </tr>\n",
       "    <tr>\n",
       "      <th>2</th>\n",
       "      <td>2023-01-01</td>\n",
       "      <td>5.875</td>\n",
       "      <td>95.625</td>\n",
       "      <td>NaN</td>\n",
       "    </tr>\n",
       "    <tr>\n",
       "      <th>3</th>\n",
       "      <td>2023-01-01</td>\n",
       "      <td>5.875</td>\n",
       "      <td>95.875</td>\n",
       "      <td>NaN</td>\n",
       "    </tr>\n",
       "    <tr>\n",
       "      <th>4</th>\n",
       "      <td>2023-01-01</td>\n",
       "      <td>5.875</td>\n",
       "      <td>96.125</td>\n",
       "      <td>NaN</td>\n",
       "    </tr>\n",
       "    <tr>\n",
       "      <th>...</th>\n",
       "      <td>...</td>\n",
       "      <td>...</td>\n",
       "      <td>...</td>\n",
       "      <td>...</td>\n",
       "    </tr>\n",
       "    <tr>\n",
       "      <th>4566875</th>\n",
       "      <td>2023-12-31</td>\n",
       "      <td>-10.875</td>\n",
       "      <td>139.875</td>\n",
       "      <td>NaN</td>\n",
       "    </tr>\n",
       "    <tr>\n",
       "      <th>4566876</th>\n",
       "      <td>2023-12-31</td>\n",
       "      <td>-10.875</td>\n",
       "      <td>140.125</td>\n",
       "      <td>NaN</td>\n",
       "    </tr>\n",
       "    <tr>\n",
       "      <th>4566877</th>\n",
       "      <td>2023-12-31</td>\n",
       "      <td>-10.875</td>\n",
       "      <td>140.375</td>\n",
       "      <td>NaN</td>\n",
       "    </tr>\n",
       "    <tr>\n",
       "      <th>4566878</th>\n",
       "      <td>2023-12-31</td>\n",
       "      <td>-10.875</td>\n",
       "      <td>140.625</td>\n",
       "      <td>NaN</td>\n",
       "    </tr>\n",
       "    <tr>\n",
       "      <th>4566879</th>\n",
       "      <td>2023-12-31</td>\n",
       "      <td>-10.875</td>\n",
       "      <td>140.875</td>\n",
       "      <td>NaN</td>\n",
       "    </tr>\n",
       "  </tbody>\n",
       "</table>\n",
       "<p>4566880 rows × 4 columns</p>\n",
       "</div>"
      ],
      "text/plain": [
       "              time     lat      lon  sm\n",
       "0       2023-01-01   5.875   95.125 NaN\n",
       "1       2023-01-01   5.875   95.375 NaN\n",
       "2       2023-01-01   5.875   95.625 NaN\n",
       "3       2023-01-01   5.875   95.875 NaN\n",
       "4       2023-01-01   5.875   96.125 NaN\n",
       "...            ...     ...      ...  ..\n",
       "4566875 2023-12-31 -10.875  139.875 NaN\n",
       "4566876 2023-12-31 -10.875  140.125 NaN\n",
       "4566877 2023-12-31 -10.875  140.375 NaN\n",
       "4566878 2023-12-31 -10.875  140.625 NaN\n",
       "4566879 2023-12-31 -10.875  140.875 NaN\n",
       "\n",
       "[4566880 rows x 4 columns]"
      ]
     },
     "execution_count": 25,
     "metadata": {},
     "output_type": "execute_result"
    }
   ],
   "source": [
    "df_sm2023 = sm_indonesia2023.to_dataframe().reset_index()\n",
    "df_sm2023   "
   ]
  },
  {
   "cell_type": "code",
   "execution_count": 27,
   "id": "edf1ef12",
   "metadata": {},
   "outputs": [],
   "source": [
    "df_avg = df_sm2023.groupby('time')['sm'].mean()"
   ]
  },
  {
   "cell_type": "code",
   "execution_count": 28,
   "id": "44ccf196",
   "metadata": {},
   "outputs": [
    {
     "data": {
      "application/vnd.microsoft.datawrangler.viewer.v0+json": {
       "columns": [
        {
         "name": "index",
         "rawType": "int64",
         "type": "integer"
        },
        {
         "name": "time",
         "rawType": "datetime64[ns]",
         "type": "datetime"
        },
        {
         "name": "sm",
         "rawType": "float32",
         "type": "float"
        }
       ],
       "ref": "f972c164-075f-4cc3-afbe-cc928a2c7a9f",
       "rows": [
        [
         "0",
         "2023-01-01 00:00:00",
         "0.3332207"
        ],
        [
         "1",
         "2023-01-02 00:00:00",
         "0.33033976"
        ],
        [
         "2",
         "2023-01-03 00:00:00",
         "0.3331501"
        ],
        [
         "3",
         "2023-01-04 00:00:00",
         "0.33438572"
        ],
        [
         "4",
         "2023-01-05 00:00:00",
         "0.33119282"
        ],
        [
         "5",
         "2023-01-06 00:00:00",
         "0.33775392"
        ],
        [
         "6",
         "2023-01-07 00:00:00",
         "0.33420599"
        ],
        [
         "7",
         "2023-01-08 00:00:00",
         "0.3377119"
        ],
        [
         "8",
         "2023-01-09 00:00:00",
         "0.33743376"
        ],
        [
         "9",
         "2023-01-10 00:00:00",
         "0.3352947"
        ],
        [
         "10",
         "2023-01-11 00:00:00",
         "0.33356333"
        ],
        [
         "11",
         "2023-01-12 00:00:00",
         "0.3332376"
        ],
        [
         "12",
         "2023-01-13 00:00:00",
         "0.3338508"
        ],
        [
         "13",
         "2023-01-14 00:00:00",
         "0.33093908"
        ],
        [
         "14",
         "2023-01-15 00:00:00",
         "0.33484793"
        ],
        [
         "15",
         "2023-01-16 00:00:00",
         "0.3308257"
        ],
        [
         "16",
         "2023-01-17 00:00:00",
         "0.33417755"
        ],
        [
         "17",
         "2023-01-18 00:00:00",
         "0.33396262"
        ],
        [
         "18",
         "2023-01-19 00:00:00",
         "0.33368692"
        ],
        [
         "19",
         "2023-01-20 00:00:00",
         "0.3374591"
        ],
        [
         "20",
         "2023-01-21 00:00:00",
         "0.33697325"
        ],
        [
         "21",
         "2023-01-22 00:00:00",
         "0.33919168"
        ],
        [
         "22",
         "2023-01-23 00:00:00",
         "0.3381137"
        ],
        [
         "23",
         "2023-01-24 00:00:00",
         "0.3399831"
        ],
        [
         "24",
         "2023-01-25 00:00:00",
         "0.33942974"
        ],
        [
         "25",
         "2023-01-26 00:00:00",
         "0.34035653"
        ],
        [
         "26",
         "2023-01-27 00:00:00",
         "0.34172747"
        ],
        [
         "27",
         "2023-01-28 00:00:00",
         "0.34042516"
        ],
        [
         "28",
         "2023-01-29 00:00:00",
         "0.34205437"
        ],
        [
         "29",
         "2023-01-30 00:00:00",
         "0.3398831"
        ],
        [
         "30",
         "2023-01-31 00:00:00",
         "0.34339213"
        ],
        [
         "31",
         "2023-02-01 00:00:00",
         "0.33920825"
        ],
        [
         "32",
         "2023-02-02 00:00:00",
         "0.3399834"
        ],
        [
         "33",
         "2023-02-03 00:00:00",
         "0.3400248"
        ],
        [
         "34",
         "2023-02-04 00:00:00",
         "0.33712724"
        ],
        [
         "35",
         "2023-02-05 00:00:00",
         "0.3383794"
        ],
        [
         "36",
         "2023-02-06 00:00:00",
         "0.33580333"
        ],
        [
         "37",
         "2023-02-07 00:00:00",
         "0.3369785"
        ],
        [
         "38",
         "2023-02-08 00:00:00",
         "0.33466327"
        ],
        [
         "39",
         "2023-02-09 00:00:00",
         "0.33469236"
        ],
        [
         "40",
         "2023-02-10 00:00:00",
         "0.33240888"
        ],
        [
         "41",
         "2023-02-11 00:00:00",
         "0.33623773"
        ],
        [
         "42",
         "2023-02-12 00:00:00",
         "0.33570847"
        ],
        [
         "43",
         "2023-02-13 00:00:00",
         "0.3377356"
        ],
        [
         "44",
         "2023-02-14 00:00:00",
         "0.33776495"
        ],
        [
         "45",
         "2023-02-15 00:00:00",
         "0.3359047"
        ],
        [
         "46",
         "2023-02-16 00:00:00",
         "0.33707812"
        ],
        [
         "47",
         "2023-02-17 00:00:00",
         "0.3349441"
        ],
        [
         "48",
         "2023-02-18 00:00:00",
         "0.33503312"
        ],
        [
         "49",
         "2023-02-19 00:00:00",
         "0.3354103"
        ]
       ],
       "shape": {
        "columns": 2,
        "rows": 365
       }
      },
      "text/html": [
       "<div>\n",
       "<style scoped>\n",
       "    .dataframe tbody tr th:only-of-type {\n",
       "        vertical-align: middle;\n",
       "    }\n",
       "\n",
       "    .dataframe tbody tr th {\n",
       "        vertical-align: top;\n",
       "    }\n",
       "\n",
       "    .dataframe thead th {\n",
       "        text-align: right;\n",
       "    }\n",
       "</style>\n",
       "<table border=\"1\" class=\"dataframe\">\n",
       "  <thead>\n",
       "    <tr style=\"text-align: right;\">\n",
       "      <th></th>\n",
       "      <th>time</th>\n",
       "      <th>sm</th>\n",
       "    </tr>\n",
       "  </thead>\n",
       "  <tbody>\n",
       "    <tr>\n",
       "      <th>0</th>\n",
       "      <td>2023-01-01</td>\n",
       "      <td>0.333221</td>\n",
       "    </tr>\n",
       "    <tr>\n",
       "      <th>1</th>\n",
       "      <td>2023-01-02</td>\n",
       "      <td>0.330340</td>\n",
       "    </tr>\n",
       "    <tr>\n",
       "      <th>2</th>\n",
       "      <td>2023-01-03</td>\n",
       "      <td>0.333150</td>\n",
       "    </tr>\n",
       "    <tr>\n",
       "      <th>3</th>\n",
       "      <td>2023-01-04</td>\n",
       "      <td>0.334386</td>\n",
       "    </tr>\n",
       "    <tr>\n",
       "      <th>4</th>\n",
       "      <td>2023-01-05</td>\n",
       "      <td>0.331193</td>\n",
       "    </tr>\n",
       "    <tr>\n",
       "      <th>...</th>\n",
       "      <td>...</td>\n",
       "      <td>...</td>\n",
       "    </tr>\n",
       "    <tr>\n",
       "      <th>360</th>\n",
       "      <td>2023-12-27</td>\n",
       "      <td>0.334275</td>\n",
       "    </tr>\n",
       "    <tr>\n",
       "      <th>361</th>\n",
       "      <td>2023-12-28</td>\n",
       "      <td>0.338789</td>\n",
       "    </tr>\n",
       "    <tr>\n",
       "      <th>362</th>\n",
       "      <td>2023-12-29</td>\n",
       "      <td>0.335544</td>\n",
       "    </tr>\n",
       "    <tr>\n",
       "      <th>363</th>\n",
       "      <td>2023-12-30</td>\n",
       "      <td>0.336394</td>\n",
       "    </tr>\n",
       "    <tr>\n",
       "      <th>364</th>\n",
       "      <td>2023-12-31</td>\n",
       "      <td>0.336807</td>\n",
       "    </tr>\n",
       "  </tbody>\n",
       "</table>\n",
       "<p>365 rows × 2 columns</p>\n",
       "</div>"
      ],
      "text/plain": [
       "          time        sm\n",
       "0   2023-01-01  0.333221\n",
       "1   2023-01-02  0.330340\n",
       "2   2023-01-03  0.333150\n",
       "3   2023-01-04  0.334386\n",
       "4   2023-01-05  0.331193\n",
       "..         ...       ...\n",
       "360 2023-12-27  0.334275\n",
       "361 2023-12-28  0.338789\n",
       "362 2023-12-29  0.335544\n",
       "363 2023-12-30  0.336394\n",
       "364 2023-12-31  0.336807\n",
       "\n",
       "[365 rows x 2 columns]"
      ]
     },
     "execution_count": 28,
     "metadata": {},
     "output_type": "execute_result"
    }
   ],
   "source": [
    "df_avg_final = df_avg.to_frame().reset_index()\n",
    "df_avg_final"
   ]
  },
  {
   "cell_type": "code",
   "execution_count": 29,
   "id": "c0a51aee",
   "metadata": {},
   "outputs": [],
   "source": [
    "df_avg_final.to_csv(\"Soil_Moisture_Indonesia_RATA-RATA_2023.csv\", index=False)"
   ]
  },
  {
   "cell_type": "code",
   "execution_count": null,
   "id": "def98fbc",
   "metadata": {},
   "outputs": [],
   "source": [
    "# ganti namanya sesuai tahun\n",
    "# df_sm2023.to_csv('Soil Moisture Indonesia 2023.csv', index=False)"
   ]
  }
 ],
 "metadata": {
  "kernelspec": {
   "display_name": ".venv",
   "language": "python",
   "name": "python3"
  },
  "language_info": {
   "codemirror_mode": {
    "name": "ipython",
    "version": 3
   },
   "file_extension": ".py",
   "mimetype": "text/x-python",
   "name": "python",
   "nbconvert_exporter": "python",
   "pygments_lexer": "ipython3",
   "version": "3.13.5"
  }
 },
 "nbformat": 4,
 "nbformat_minor": 5
}
